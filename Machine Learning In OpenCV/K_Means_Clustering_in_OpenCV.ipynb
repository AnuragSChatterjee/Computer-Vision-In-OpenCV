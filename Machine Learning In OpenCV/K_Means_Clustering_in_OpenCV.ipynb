{
  "nbformat": 4,
  "nbformat_minor": 0,
  "metadata": {
    "colab": {
      "provenance": []
    },
    "kernelspec": {
      "name": "python3",
      "display_name": "Python 3"
    },
    "language_info": {
      "name": "python"
    }
  },
  "cells": [
    {
      "cell_type": "code",
      "execution_count": 1,
      "metadata": {
        "colab": {
          "base_uri": "https://localhost:8080/"
        },
        "id": "yFZPF4QUV_mT",
        "outputId": "3c716153-1ed5-47a1-e540-332dc2f7b8c5"
      },
      "outputs": [
        {
          "output_type": "stream",
          "name": "stdout",
          "text": [
            "4.7.0\n"
          ]
        }
      ],
      "source": [
        "import cv2 as cv\n",
        "print( cv.__version__ )"
      ]
    },
    {
      "cell_type": "code",
      "source": [
        "import cv2 as cv\n",
        "import numpy as np\n",
        "import matplotlib.pyplot as plt\n",
        "# Feature set containing (x,y) values of 25 known/training data\n",
        "trainData = np.random.randint(0,100,(25,2)).astype(np.float32)\n",
        "# Label each one either Red or Blue with numbers 0 and 1\n",
        "responses = np.random.randint(0,2,(25,1)).astype(np.float32)\n",
        "# Take Red neighbours and plot them\n",
        "red = trainData[responses.ravel()==0]\n",
        "plt.scatter(red[:,0],red[:,1],80,'r','^')\n",
        "# Take Blue neighbours and plot them\n",
        "blue = trainData[responses.ravel()==1]\n",
        "plt.scatter(blue[:,0],blue[:,1],80,'b','s')\n",
        "plt.show()"
      ],
      "metadata": {
        "colab": {
          "base_uri": "https://localhost:8080/",
          "height": 267
        },
        "id": "p_gnWxY8WgBt",
        "outputId": "5e425fcc-0fd0-41be-a8f3-d041c64c331c"
      },
      "execution_count": 20,
      "outputs": [
        {
          "output_type": "display_data",
          "data": {
            "text/plain": [
              "<Figure size 432x288 with 1 Axes>"
            ],
            "image/png": "[encoded data removed]"
          },
          "metadata": {
            "needs_background": "light"
          }
        }
      ]
    },
    {
      "cell_type": "code",
      "source": [
        "newcomer = np.random.randint(0,100,(1,2)).astype(np.float32)\n",
        "plt.scatter(newcomer[:,0],newcomer[:,1],80,'g','o')\n",
        "knn = cv.ml.KNearest_create()\n",
        "knn.train(trainData, cv.ml.ROW_SAMPLE, responses)\n",
        "ret, results, neighbours ,dist = knn.findNearest(newcomer, 3)\n",
        "print( \"result:  {}\\n\".format(results) )\n",
        "print( \"neighbours:  {}\\n\".format(neighbours) )\n",
        "print( \"distance:  {}\\n\".format(dist) )\n",
        "plt.show()"
      ],
      "metadata": {
        "colab": {
          "base_uri": "https://localhost:8080/",
          "height": 369
        },
        "id": "675zX712blde",
        "outputId": "97d875f2-d007-4c0c-fb55-6ac02e3d20f2"
      },
      "execution_count": 21,
      "outputs": [
        {
          "output_type": "stream",
          "name": "stdout",
          "text": [
            "result:  [[0.]]\n",
            "\n",
            "neighbours:  [[0. 0. 1.]]\n",
            "\n",
            "distance:  [[160. 265. 898.]]\n",
            "\n"
          ]
        },
        {
          "output_type": "display_data",
          "data": {
            "text/plain": [
              "<Figure size 432x288 with 1 Axes>"
            ],
            "image/png": "[encoded data removed]"
          },
          "metadata": {
            "needs_background": "light"
          }
        }
      ]
    },
    {
      "cell_type": "code",
      "source": [
        "import numpy as np\n",
        "import cv2 as cv\n",
        "from matplotlib import pyplot as plt\n",
        "x = np.random.randint(20,100,25)\n",
        "y = np.random.randint(175,255,25)\n",
        "z = np.hstack((x,y))\n",
        "z = z.reshape((50,1))\n",
        "z = np.float32(z)\n",
        "plt.hist(z,300,[0,300]),plt.show()"
      ],
      "metadata": {
        "colab": {
          "base_uri": "https://localhost:8080/",
          "height": 1000
        },
        "id": "bnm5B6Fwb8el",
        "outputId": "89419cd3-3c8a-4233-a519-79f5cac4848f"
      },
      "execution_count": 27,
      "outputs": [
        {
          "output_type": "display_data",
          "data": {
            "text/plain": [
              "<Figure size 432x288 with 1 Axes>"
            ],
            "image/png": "[encoded data removed]"
          },
          "metadata": {
            "needs_background": "light"
          }
        },
        {
          "output_type": "execute_result",
          "data": {
            "text/plain": [
              "((array([0., 0., 0., 0., 0., 0., 0., 0., 0., 0., 0., 0., 0., 0., 0., 0., 0.,\n",
              "         0., 0., 0., 1., 0., 0., 0., 0., 0., 0., 0., 0., 0., 1., 0., 1., 0.,\n",
              "         2., 1., 2., 2., 0., 2., 0., 0., 0., 0., 1., 0., 0., 0., 0., 0., 0.,\n",
              "         0., 0., 1., 1., 0., 0., 0., 1., 0., 0., 0., 0., 0., 0., 0., 1., 0.,\n",
              "         0., 0., 1., 1., 0., 0., 0., 0., 0., 0., 0., 0., 1., 0., 0., 0., 1.,\n",
              "         0., 0., 0., 0., 0., 1., 0., 1., 1., 0., 0., 0., 0., 0., 1., 0., 0.,\n",
              "         0., 0., 0., 0., 0., 0., 0., 0., 0., 0., 0., 0., 0., 0., 0., 0., 0.,\n",
              "         0., 0., 0., 0., 0., 0., 0., 0., 0., 0., 0., 0., 0., 0., 0., 0., 0.,\n",
              "         0., 0., 0., 0., 0., 0., 0., 0., 0., 0., 0., 0., 0., 0., 0., 0., 0.,\n",
              "         0., 0., 0., 0., 0., 0., 0., 0., 0., 0., 0., 0., 0., 0., 0., 0., 0.,\n",
              "         0., 0., 0., 0., 0., 0., 0., 0., 0., 0., 1., 0., 1., 1., 0., 1., 0.,\n",
              "         0., 1., 1., 0., 1., 0., 1., 0., 0., 0., 0., 0., 0., 0., 0., 1., 1.,\n",
              "         0., 2., 0., 0., 0., 0., 0., 0., 1., 1., 1., 0., 0., 0., 0., 1., 0.,\n",
              "         1., 0., 0., 1., 0., 0., 1., 1., 0., 0., 0., 1., 1., 0., 1., 0., 0.,\n",
              "         0., 0., 1., 0., 0., 0., 0., 0., 0., 0., 0., 1., 0., 0., 0., 0., 0.,\n",
              "         0., 0., 0., 0., 0., 0., 0., 0., 0., 0., 0., 0., 0., 0., 0., 0., 0.,\n",
              "         0., 0., 0., 0., 0., 0., 0., 0., 0., 0., 0., 0., 0., 0., 0., 0., 0.,\n",
              "         0., 0., 0., 0., 0., 0., 0., 0., 0., 0., 0.]),\n",
              "  array([  0.,   1.,   2.,   3.,   4.,   5.,   6.,   7.,   8.,   9.,  10.,\n",
              "          11.,  12.,  13.,  14.,  15.,  16.,  17.,  18.,  19.,  20.,  21.,\n",
              "          22.,  23.,  24.,  25.,  26.,  27.,  28.,  29.,  30.,  31.,  32.,\n",
              "          33.,  34.,  35.,  36.,  37.,  38.,  39.,  40.,  41.,  42.,  43.,\n",
              "          44.,  45.,  46.,  47.,  48.,  49.,  50.,  51.,  52.,  53.,  54.,\n",
              "          55.,  56.,  57.,  58.,  59.,  60.,  61.,  62.,  63.,  64.,  65.,\n",
              "          66.,  67.,  68.,  69.,  70.,  71.,  72.,  73.,  74.,  75.,  76.,\n",
              "          77.,  78.,  79.,  80.,  81.,  82.,  83.,  84.,  85.,  86.,  87.,\n",
              "          88.,  89.,  90.,  91.,  92.,  93.,  94.,  95.,  96.,  97.,  98.,\n",
              "          99., 100., 101., 102., 103., 104., 105., 106., 107., 108., 109.,\n",
              "         110., 111., 112., 113., 114., 115., 116., 117., 118., 119., 120.,\n",
              "         121., 122., 123., 124., 125., 126., 127., 128., 129., 130., 131.,\n",
              "         132., 133., 134., 135., 136., 137., 138., 139., 140., 141., 142.,\n",
              "         143., 144., 145., 146., 147., 148., 149., 150., 151., 152., 153.,\n",
              "         154., 155., 156., 157., 158., 159., 160., 161., 162., 163., 164.,\n",
              "         165., 166., 167., 168., 169., 170., 171., 172., 173., 174., 175.,\n",
              "         176., 177., 178., 179., 180., 181., 182., 183., 184., 185., 186.,\n",
              "         187., 188., 189., 190., 191., 192., 193., 194., 195., 196., 197.,\n",
              "         198., 199., 200., 201., 202., 203., 204., 205., 206., 207., 208.,\n",
              "         209., 210., 211., 212., 213., 214., 215., 216., 217., 218., 219.,\n",
              "         220., 221., 222., 223., 224., 225., 226., 227., 228., 229., 230.,\n",
              "         231., 232., 233., 234., 235., 236., 237., 238., 239., 240., 241.,\n",
              "         242., 243., 244., 245., 246., 247., 248., 249., 250., 251., 252.,\n",
              "         253., 254., 255., 256., 257., 258., 259., 260., 261., 262., 263.,\n",
              "         264., 265., 266., 267., 268., 269., 270., 271., 272., 273., 274.,\n",
              "         275., 276., 277., 278., 279., 280., 281., 282., 283., 284., 285.,\n",
              "         286., 287., 288., 289., 290., 291., 292., 293., 294., 295., 296.,\n",
              "         297., 298., 299., 300.]),\n",
              "  <BarContainer object of 300 artists>),\n",
              " None)"
            ]
          },
          "metadata": {},
          "execution_count": 27
        }
      ]
    },
    {
      "cell_type": "code",
      "source": [
        "# Define criteria = ( type, max_iter = 10 , epsilon = 1.0 )\n",
        "criteria = (cv.TERM_CRITERIA_EPS + cv.TERM_CRITERIA_MAX_ITER, 10, 1.0)\n",
        "# Set flags (Just to avoid line break in the code)\n",
        "flags = cv.KMEANS_RANDOM_CENTERS\n",
        "# Apply KMeans\n",
        "compactness,labels,centers = cv.kmeans(z,2,None,criteria,10,flags)"
      ],
      "metadata": {
        "id": "zgi9xAUOcTog"
      },
      "execution_count": 28,
      "outputs": []
    },
    {
      "cell_type": "code",
      "source": [
        "A = z[labels==0]\n",
        "B = z[labels==1]\n",
        "\n",
        "# Now plot 'A' in red, 'B' in blue, 'centers' in yellow\n",
        "plt.hist(A,256,[0,256],color = 'g')\n",
        "plt.hist(B,256,[0,256],color = 'y')\n",
        "plt.hist(centers,32,[0,256],color = 'r')\n",
        "plt.show()"
      ],
      "metadata": {
        "colab": {
          "base_uri": "https://localhost:8080/",
          "height": 265
        },
        "id": "ahUQ5-lLcVK-",
        "outputId": "a1ee7c58-4ade-4521-dbf6-84ee62ed654f"
      },
      "execution_count": 30,
      "outputs": [
        {
          "output_type": "display_data",
          "data": {
            "text/plain": [
              "<Figure size 432x288 with 1 Axes>"
            ],
            "image/png": "[encoded data removed]"
          },
          "metadata": {
            "needs_background": "light"
          }
        }
      ]
    },
    {
      "cell_type": "code",
      "source": [
        "import numpy as np\n",
        "import cv2 as cv\n",
        "from matplotlib import pyplot as plt\n",
        "X = np.random.randint(25,50,(25,2))\n",
        "Y = np.random.randint(60,85,(25,2))\n",
        "Z = np.vstack((X,Y))\n",
        "# convert to np.float32\n",
        "Z = np.float32(Z)\n",
        "# define criteria and apply kmeans()\n",
        "criteria = (cv.TERM_CRITERIA_EPS + cv.TERM_CRITERIA_MAX_ITER, 10, 1.0)\n",
        "ret,label,center=cv.kmeans(Z,2,None,criteria,10,cv.KMEANS_RANDOM_CENTERS)\n",
        "# Now separate the data, Note the flatten()\n",
        "A = Z[label.ravel()==0]\n",
        "B = Z[label.ravel()==1]\n",
        "# Plot the data\n",
        "plt.scatter(A[:,0],A[:,1]) \n",
        "plt.scatter(B[:,0],B[:,1],c = 'r')\n",
        "plt.scatter(center[:,0],center[:,1],s = 80,c = 'y', marker = 's')\n",
        "plt.xlabel('Height'),plt.ylabel('Weight')\n",
        "plt.show()"
      ],
      "metadata": {
        "colab": {
          "base_uri": "https://localhost:8080/",
          "height": 279
        },
        "id": "sMOFEF5BdD_n",
        "outputId": "5ed33c36-0e7b-4561-f6c3-8c4c6a71e398"
      },
      "execution_count": 31,
      "outputs": [
        {
          "output_type": "display_data",
          "data": {
            "text/plain": [
              "<Figure size 432x288 with 1 Axes>"
            ],
            "image/png": "[encoded data removed]"
          },
          "metadata": {
            "needs_background": "light"
          }
        }
      ]
    }
  ]
}